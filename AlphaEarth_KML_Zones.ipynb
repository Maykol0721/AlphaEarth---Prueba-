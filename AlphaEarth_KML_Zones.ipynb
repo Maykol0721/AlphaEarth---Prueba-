{
 "cells": [
  {
   "cell_type": "markdown",
   "id": "c86d6b5f",
   "metadata": {},
   "source": [
    "\n",
    "# Alpha Earth – **Zonas KML** + NDVI (GEE + leafmap)\n",
    "\n",
    "Este notebook extiende *Alpha Earth Foundations* para trabajar con **zonas delimitadas por KML**:\n",
    "- Carga de KML desde **Asset de Earth Engine** *o* desde **URL KML** (conversión a GeoJSON).\n",
    "- Disolver/normalizar zonas por un campo clave (p. ej. `zone_id`).\n",
    "- Cálculo de **NDVI** (Sentinel-2 SR) y **estadísticas zonales**.\n",
    "- Visualización en `leafmap/MapLibre` y **exportación** a Drive (raster y tabla).\n",
    "\n",
    "> Si ya cargaste el KML como Asset (en el Code Editor de GEE), usa el **ID del Asset**. \n",
    "> Si no, puedes usar un **KML público por URL**; el notebook lo convierte a GeoJSON y luego a `FeatureCollection` de EE.\n"
   ]
  },
  {
   "cell_type": "code",
   "execution_count": 1,
   "id": "fc757113",
   "metadata": {},
   "outputs": [
    {
     "name": "stdout",
     "output_type": "stream",
     "text": [
      "Running: earthengine-api\n",
      "Running: geemap>=0.32.0\n"
     ]
    },
    {
     "name": "stderr",
     "output_type": "stream",
     "text": [
      "\n",
      "[notice] A new release of pip is available: 25.1.1 -> 25.2\n",
      "[notice] To update, run: C:\\Users\\USUARIO\\AppData\\Local\\Microsoft\\WindowsApps\\PythonSoftwareFoundation.Python.3.11_qbz5n2kfra8p0\\python.exe -m pip install --upgrade pip\n"
     ]
    },
    {
     "name": "stdout",
     "output_type": "stream",
     "text": [
      "Running: leafmap>=0.34.0\n"
     ]
    },
    {
     "name": "stderr",
     "output_type": "stream",
     "text": [
      "\n",
      "[notice] A new release of pip is available: 25.1.1 -> 25.2\n",
      "[notice] To update, run: C:\\Users\\USUARIO\\AppData\\Local\\Microsoft\\WindowsApps\\PythonSoftwareFoundation.Python.3.11_qbz5n2kfra8p0\\python.exe -m pip install --upgrade pip\n"
     ]
    },
    {
     "name": "stdout",
     "output_type": "stream",
     "text": [
      "Running: fastkml\n"
     ]
    },
    {
     "name": "stderr",
     "output_type": "stream",
     "text": [
      "\n",
      "[notice] A new release of pip is available: 25.1.1 -> 25.2\n",
      "[notice] To update, run: C:\\Users\\USUARIO\\AppData\\Local\\Microsoft\\WindowsApps\\PythonSoftwareFoundation.Python.3.11_qbz5n2kfra8p0\\python.exe -m pip install --upgrade pip\n"
     ]
    },
    {
     "name": "stdout",
     "output_type": "stream",
     "text": [
      "Running: requests\n"
     ]
    },
    {
     "name": "stderr",
     "output_type": "stream",
     "text": [
      "\n",
      "[notice] A new release of pip is available: 25.1.1 -> 25.2\n",
      "[notice] To update, run: C:\\Users\\USUARIO\\AppData\\Local\\Microsoft\\WindowsApps\\PythonSoftwareFoundation.Python.3.11_qbz5n2kfra8p0\\python.exe -m pip install --upgrade pip\n"
     ]
    },
    {
     "name": "stdout",
     "output_type": "stream",
     "text": [
      "✅ Dependencias listas.\n"
     ]
    },
    {
     "name": "stderr",
     "output_type": "stream",
     "text": [
      "\n",
      "[notice] A new release of pip is available: 25.1.1 -> 25.2\n",
      "[notice] To update, run: C:\\Users\\USUARIO\\AppData\\Local\\Microsoft\\WindowsApps\\PythonSoftwareFoundation.Python.3.11_qbz5n2kfra8p0\\python.exe -m pip install --upgrade pip\n"
     ]
    }
   ],
   "source": [
    "\n",
    "# === Dependencias ===\n",
    "import sys\n",
    "\n",
    "def _pip(cmd):\n",
    "    print(f\"Running: {cmd}\")\n",
    "    get_ipython().system(f\"{sys.executable} -m pip install --quiet --upgrade {cmd}\")\n",
    "\n",
    "for p in [\"earthengine-api\", \"geemap>=0.32.0\", \"leafmap>=0.34.0\", \"fastkml\", \"requests\"]:\n",
    "    _pip(p)\n",
    "\n",
    "print(\"✅ Dependencias listas.\")\n"
   ]
  },
  {
   "cell_type": "code",
   "execution_count": 2,
   "id": "5c96fd74",
   "metadata": {},
   "outputs": [
    {
     "data": {
      "text/html": [
       "<p>To authorize access needed by Earth Engine, open the following\n",
       "        URL in a web browser and follow the instructions:</p>\n",
       "        <p><a href=https://code.earthengine.google.com/client-auth?scopes=https%3A//www.googleapis.com/auth/earthengine%20https%3A//www.googleapis.com/auth/cloud-platform%20https%3A//www.googleapis.com/auth/drive%20https%3A//www.googleapis.com/auth/devstorage.full_control&request_id=wE-pAVTS1HJhMkqD-KlQ-yf1Xmk7JkFeMH6UwyGs-Ik&tc=v1tb6DMn16WU464anh5BwHmGQjJgOXTk7Iq0Qc9pze4&cc=dKlOGziUd2C2HBvMmprHf5-OlgUez92o9O4TnTnBgpM>https://code.earthengine.google.com/client-auth?scopes=https%3A//www.googleapis.com/auth/earthengine%20https%3A//www.googleapis.com/auth/cloud-platform%20https%3A//www.googleapis.com/auth/drive%20https%3A//www.googleapis.com/auth/devstorage.full_control&request_id=wE-pAVTS1HJhMkqD-KlQ-yf1Xmk7JkFeMH6UwyGs-Ik&tc=v1tb6DMn16WU464anh5BwHmGQjJgOXTk7Iq0Qc9pze4&cc=dKlOGziUd2C2HBvMmprHf5-OlgUez92o9O4TnTnBgpM</a></p>\n",
       "        <p>The authorization workflow will generate a code, which you should paste in the box below.</p>\n",
       "        "
      ],
      "text/plain": [
       "<IPython.core.display.HTML object>"
      ]
     },
     "metadata": {},
     "output_type": "display_data"
    },
    {
     "ename": "EEException",
     "evalue": "Cannot authenticate: Invalid request.",
     "output_type": "error",
     "traceback": [
      "\u001b[31m---------------------------------------------------------------------------\u001b[39m",
      "\u001b[31mEEException\u001b[39m                               Traceback (most recent call last)",
      "\u001b[36mCell\u001b[39m\u001b[36m \u001b[39m\u001b[32mIn[2]\u001b[39m\u001b[32m, line 4\u001b[39m\n\u001b[32m      3\u001b[39m \u001b[38;5;28;01mtry\u001b[39;00m:\n\u001b[32m----> \u001b[39m\u001b[32m4\u001b[39m     \u001b[43mee\u001b[49m\u001b[43m.\u001b[49m\u001b[43mInitialize\u001b[49m\u001b[43m(\u001b[49m\u001b[43m)\u001b[49m\n\u001b[32m      5\u001b[39m     \u001b[38;5;28mprint\u001b[39m(\u001b[33m\"\u001b[39m\u001b[33m✅ EE inicializado\u001b[39m\u001b[33m\"\u001b[39m)\n",
      "\u001b[36mFile \u001b[39m\u001b[32m~\\AppData\\Local\\Packages\\PythonSoftwareFoundation.Python.3.11_qbz5n2kfra8p0\\LocalCache\\local-packages\\Python311\\site-packages\\ee\\_utils.py:38\u001b[39m, in \u001b[36maccept_opt_prefix.<locals>.opt_fixed.<locals>.wrapper\u001b[39m\u001b[34m(*args, **kwargs)\u001b[39m\n\u001b[32m     37\u001b[39m       kwargs[new_key] = old_key_val\n\u001b[32m---> \u001b[39m\u001b[32m38\u001b[39m \u001b[38;5;28;01mreturn\u001b[39;00m \u001b[43mfunc\u001b[49m\u001b[43m(\u001b[49m\u001b[43m*\u001b[49m\u001b[43margs\u001b[49m\u001b[43m,\u001b[49m\u001b[43m \u001b[49m\u001b[43m*\u001b[49m\u001b[43m*\u001b[49m\u001b[43mkwargs\u001b[49m\u001b[43m)\u001b[49m\n",
      "\u001b[36mFile \u001b[39m\u001b[32m~\\AppData\\Local\\Packages\\PythonSoftwareFoundation.Python.3.11_qbz5n2kfra8p0\\LocalCache\\local-packages\\Python311\\site-packages\\ee\\__init__.py:188\u001b[39m, in \u001b[36mInitialize\u001b[39m\u001b[34m(credentials, url, cloud_api_key, http_transport, project)\u001b[39m\n\u001b[32m    187\u001b[39m \u001b[38;5;28;01mif\u001b[39;00m credentials == \u001b[33m'\u001b[39m\u001b[33mpersistent\u001b[39m\u001b[33m'\u001b[39m:\n\u001b[32m--> \u001b[39m\u001b[32m188\u001b[39m   credentials = \u001b[43mdata\u001b[49m\u001b[43m.\u001b[49m\u001b[43mget_persistent_credentials\u001b[49m\u001b[43m(\u001b[49m\u001b[43m)\u001b[49m\n\u001b[32m    189\u001b[39m \u001b[38;5;28;01mif\u001b[39;00m \u001b[38;5;129;01mnot\u001b[39;00m project \u001b[38;5;129;01mand\u001b[39;00m credentials \u001b[38;5;129;01mand\u001b[39;00m \u001b[38;5;28mhasattr\u001b[39m(credentials, \u001b[33m'\u001b[39m\u001b[33mquota_project_id\u001b[39m\u001b[33m'\u001b[39m):\n",
      "\u001b[36mFile \u001b[39m\u001b[32m~\\AppData\\Local\\Packages\\PythonSoftwareFoundation.Python.3.11_qbz5n2kfra8p0\\LocalCache\\local-packages\\Python311\\site-packages\\ee\\data.py:282\u001b[39m, in \u001b[36mget_persistent_credentials\u001b[39m\u001b[34m()\u001b[39m\n\u001b[32m    281\u001b[39m     \u001b[38;5;28;01mreturn\u001b[39;00m credentials\n\u001b[32m--> \u001b[39m\u001b[32m282\u001b[39m \u001b[38;5;28;01mraise\u001b[39;00m ee_exception.EEException(  \u001b[38;5;66;03m# pylint: disable=raise-missing-from\u001b[39;00m\n\u001b[32m    283\u001b[39m     \u001b[33m'\u001b[39m\u001b[33mPlease authorize access to your Earth Engine account by \u001b[39m\u001b[33m'\u001b[39m\n\u001b[32m    284\u001b[39m     \u001b[33m'\u001b[39m\u001b[33mrunning\u001b[39m\u001b[38;5;130;01m\\n\u001b[39;00m\u001b[38;5;130;01m\\n\u001b[39;00m\u001b[33mearthengine authenticate\u001b[39m\u001b[38;5;130;01m\\n\u001b[39;00m\u001b[38;5;130;01m\\n\u001b[39;00m\u001b[33m'\u001b[39m\n\u001b[32m    285\u001b[39m     \u001b[33m'\u001b[39m\u001b[33min your command line, or ee.Authenticate() in Python, and then retry.\u001b[39m\u001b[33m'\u001b[39m\n\u001b[32m    286\u001b[39m )\n",
      "\u001b[31mEEException\u001b[39m: Please authorize access to your Earth Engine account by running\n\nearthengine authenticate\n\nin your command line, or ee.Authenticate() in Python, and then retry.",
      "\nDuring handling of the above exception, another exception occurred:\n",
      "\u001b[31mEEException\u001b[39m                               Traceback (most recent call last)",
      "\u001b[36mCell\u001b[39m\u001b[36m \u001b[39m\u001b[32mIn[2]\u001b[39m\u001b[32m, line 7\u001b[39m\n\u001b[32m      5\u001b[39m     \u001b[38;5;28mprint\u001b[39m(\u001b[33m\"\u001b[39m\u001b[33m✅ EE inicializado\u001b[39m\u001b[33m\"\u001b[39m)\n\u001b[32m      6\u001b[39m \u001b[38;5;28;01mexcept\u001b[39;00m \u001b[38;5;167;01mException\u001b[39;00m:\n\u001b[32m----> \u001b[39m\u001b[32m7\u001b[39m     \u001b[43mee\u001b[49m\u001b[43m.\u001b[49m\u001b[43mAuthenticate\u001b[49m\u001b[43m(\u001b[49m\u001b[43m)\u001b[49m\n\u001b[32m      8\u001b[39m     ee.Initialize()\n\u001b[32m      9\u001b[39m     \u001b[38;5;28mprint\u001b[39m(\u001b[33m\"\u001b[39m\u001b[33m✅ EE autenticado e inicializado\u001b[39m\u001b[33m\"\u001b[39m)\n",
      "\u001b[36mFile \u001b[39m\u001b[32m~\\AppData\\Local\\Packages\\PythonSoftwareFoundation.Python.3.11_qbz5n2kfra8p0\\LocalCache\\local-packages\\Python311\\site-packages\\ee\\__init__.py:159\u001b[39m, in \u001b[36mAuthenticate\u001b[39m\u001b[34m(authorization_code, quiet, code_verifier, auth_mode, scopes, force)\u001b[39m\n\u001b[32m    128\u001b[39m \u001b[38;5;28;01mdef\u001b[39;00m\u001b[38;5;250m \u001b[39m\u001b[34mAuthenticate\u001b[39m(\n\u001b[32m    129\u001b[39m     authorization_code: Optional[\u001b[38;5;28mstr\u001b[39m] = \u001b[38;5;28;01mNone\u001b[39;00m,\n\u001b[32m    130\u001b[39m     quiet: Optional[\u001b[38;5;28mbool\u001b[39m] = \u001b[38;5;28;01mNone\u001b[39;00m,\n\u001b[32m   (...)\u001b[39m\u001b[32m    134\u001b[39m     force: \u001b[38;5;28mbool\u001b[39m = \u001b[38;5;28;01mFalse\u001b[39;00m,\n\u001b[32m    135\u001b[39m ) -> Optional[\u001b[38;5;28mbool\u001b[39m]:\n\u001b[32m    136\u001b[39m \u001b[38;5;250m  \u001b[39m\u001b[33;03m\"\"\"Prompts the user to authorize access to Earth Engine via OAuth2.\u001b[39;00m\n\u001b[32m    137\u001b[39m \n\u001b[32m    138\u001b[39m \u001b[33;03m  Args:\u001b[39;00m\n\u001b[32m   (...)\u001b[39m\u001b[32m    157\u001b[39m \u001b[33;03m    True if we found valid credentials and didn't run the auth flow.\u001b[39;00m\n\u001b[32m    158\u001b[39m \u001b[33;03m  \"\"\"\u001b[39;00m\n\u001b[32m--> \u001b[39m\u001b[32m159\u001b[39m   \u001b[38;5;28;01mreturn\u001b[39;00m \u001b[43moauth\u001b[49m\u001b[43m.\u001b[49m\u001b[43mauthenticate\u001b[49m\u001b[43m(\u001b[49m\u001b[43mauthorization_code\u001b[49m\u001b[43m,\u001b[49m\u001b[43m \u001b[49m\u001b[43mquiet\u001b[49m\u001b[43m,\u001b[49m\u001b[43m \u001b[49m\u001b[43mcode_verifier\u001b[49m\u001b[43m,\u001b[49m\u001b[43m \u001b[49m\u001b[43mauth_mode\u001b[49m\u001b[43m,\u001b[49m\n\u001b[32m    160\u001b[39m \u001b[43m                            \u001b[49m\u001b[43mscopes\u001b[49m\u001b[43m,\u001b[49m\u001b[43m \u001b[49m\u001b[43mforce\u001b[49m\u001b[43m)\u001b[49m\n",
      "\u001b[36mFile \u001b[39m\u001b[32m~\\AppData\\Local\\Packages\\PythonSoftwareFoundation.Python.3.11_qbz5n2kfra8p0\\LocalCache\\local-packages\\Python311\\site-packages\\ee\\oauth.py:553\u001b[39m, in \u001b[36mauthenticate\u001b[39m\u001b[34m(cli_authorization_code, quiet, cli_code_verifier, auth_mode, scopes, force)\u001b[39m\n\u001b[32m    550\u001b[39m \u001b[38;5;28;01mif\u001b[39;00m flow.display_instructions(quiet):\n\u001b[32m    551\u001b[39m   _open_new_browser(flow.auth_url)\n\u001b[32m--> \u001b[39m\u001b[32m553\u001b[39m \u001b[43mflow\u001b[49m\u001b[43m.\u001b[49m\u001b[43msave_code\u001b[49m\u001b[43m(\u001b[49m\u001b[43m)\u001b[49m\n",
      "\u001b[36mFile \u001b[39m\u001b[32m~\\AppData\\Local\\Packages\\PythonSoftwareFoundation.Python.3.11_qbz5n2kfra8p0\\LocalCache\\local-packages\\Python311\\site-packages\\ee\\oauth.py:603\u001b[39m, in \u001b[36mFlow.save_code\u001b[39m\u001b[34m(self, code)\u001b[39m\n\u001b[32m    601\u001b[39m   redirect_uri = \u001b[38;5;28mself\u001b[39m.server.url\n\u001b[32m    602\u001b[39m   code = \u001b[38;5;28mself\u001b[39m.server.fetch_code()  \u001b[38;5;66;03m# Waits for oauth callback\u001b[39;00m\n\u001b[32m--> \u001b[39m\u001b[32m603\u001b[39m \u001b[43m_obtain_and_write_token\u001b[49m\u001b[43m(\u001b[49m\u001b[43mcode\u001b[49m\u001b[43m,\u001b[49m\u001b[43m \u001b[49m\u001b[38;5;28;43mself\u001b[39;49m\u001b[43m.\u001b[49m\u001b[43mcode_verifier\u001b[49m\u001b[43m,\u001b[49m\u001b[43m \u001b[49m\u001b[38;5;28;43mself\u001b[39;49m\u001b[43m.\u001b[49m\u001b[43mscopes\u001b[49m\u001b[43m,\u001b[49m\u001b[43m \u001b[49m\u001b[43mredirect_uri\u001b[49m\u001b[43m)\u001b[49m\n",
      "\u001b[36mFile \u001b[39m\u001b[32m~\\AppData\\Local\\Packages\\PythonSoftwareFoundation.Python.3.11_qbz5n2kfra8p0\\LocalCache\\local-packages\\Python311\\site-packages\\ee\\oauth.py:270\u001b[39m, in \u001b[36m_obtain_and_write_token\u001b[39m\u001b[34m(auth_code, code_verifier, scopes, redirect_uri)\u001b[39m\n\u001b[32m    267\u001b[39m fetched_info = json.loads(\n\u001b[32m    268\u001b[39m     urllib.request.urlopen(fetch_client).read().decode())\n\u001b[32m    269\u001b[39m \u001b[38;5;28;01mif\u001b[39;00m \u001b[33m'\u001b[39m\u001b[33merror\u001b[39m\u001b[33m'\u001b[39m \u001b[38;5;129;01min\u001b[39;00m fetched_info:\n\u001b[32m--> \u001b[39m\u001b[32m270\u001b[39m   \u001b[38;5;28;01mraise\u001b[39;00m ee_exception.EEException(\n\u001b[32m    271\u001b[39m       \u001b[33m'\u001b[39m\u001b[33mCannot authenticate: \u001b[39m\u001b[38;5;132;01m%s\u001b[39;00m\u001b[33m'\u001b[39m % fetched_info[\u001b[33m'\u001b[39m\u001b[33merror\u001b[39m\u001b[33m'\u001b[39m]\n\u001b[32m    272\u001b[39m   )\n\u001b[32m    273\u001b[39m client_info = {k: fetched_info[k] \u001b[38;5;28;01mfor\u001b[39;00m k \u001b[38;5;129;01min\u001b[39;00m [\u001b[33m'\u001b[39m\u001b[33mclient_id\u001b[39m\u001b[33m'\u001b[39m, \u001b[33m'\u001b[39m\u001b[33mclient_secret\u001b[39m\u001b[33m'\u001b[39m]}\n\u001b[32m    274\u001b[39m scopes = fetched_info.get(\u001b[33m'\u001b[39m\u001b[33mscopes\u001b[39m\u001b[33m'\u001b[39m) \u001b[38;5;129;01mor\u001b[39;00m scopes\n",
      "\u001b[31mEEException\u001b[39m: Cannot authenticate: Invalid request."
     ]
    }
   ],
   "source": [
    "\n",
    "# === Autenticación GEE ===\n",
    "import ee\n",
    "try:\n",
    "    ee.Initialize()\n",
    "    print(\"✅ EE inicializado\")\n",
    "except Exception:\n",
    "    ee.Authenticate()\n",
    "    ee.Initialize()\n",
    "    print(\"✅ EE autenticado e inicializado\")\n"
   ]
  },
  {
   "cell_type": "code",
   "execution_count": null,
   "id": "44dbbdae",
   "metadata": {},
   "outputs": [],
   "source": [
    "\n",
    "# === Imports ===\n",
    "import ee, json, os, io, requests\n",
    "import leafmap, geemap\n",
    "from shapely.geometry import shape\n",
    "from fastkml import kml\n",
    "\n",
    "YEAR = 2025\n",
    "START = ee.Date.fromYMD(YEAR, 7, 1)\n",
    "END   = ee.Date.fromYMD(YEAR, 7, 31)\n",
    "CLOUDY_PCT = 20\n",
    "\n",
    "# Configura UNA de estas dos opciones:\n",
    "KML_ASSET_ID = \"\"  # e.g., \"users/tu_usuario/alphaearth/zonas_cafe\"\n",
    "KML_URL = \"\"       # e.g., \"https://tusitio.com/zonas.kml\" (público)\n",
    "\n",
    "# Campo opcional para disolver/agrupar zonas (si existe en tu KML)\n",
    "ZONE_KEY = \"zone_id\"  # o cambia por el nombre real del atributo; si vacío, no disuelve.\n"
   ]
  },
  {
   "cell_type": "markdown",
   "id": "b24a6d69",
   "metadata": {},
   "source": [
    "\n",
    "## Cargar Zonas desde KML\n",
    "**Modo A.** Asset de GEE (`ee.FeatureCollection(KML_ASSET_ID)`)  \n",
    "**Modo B.** URL KML pública → convertir a GeoJSON → `geemap.geojson_to_ee(...)`\n"
   ]
  },
  {
   "cell_type": "code",
   "execution_count": null,
   "id": "83e56412",
   "metadata": {},
   "outputs": [],
   "source": [
    "\n",
    "def load_zones_from_asset(asset_id: str) -> ee.FeatureCollection:\n",
    "    fc = ee.FeatureCollection(asset_id)\n",
    "    # Sanity check\n",
    "    _n = fc.size().getInfo()\n",
    "    print(f\"📦 Cargadas { _n } features desde Asset: {asset_id}\")\n",
    "    return fc\n",
    "\n",
    "def load_zones_from_kml_url(kml_url: str) -> ee.FeatureCollection:\n",
    "    print(f\"⬇️ Descargando KML desde URL: {kml_url}\")\n",
    "    r = requests.get(kml_url, timeout=60)\n",
    "    r.raise_for_status()\n",
    "    data = r.content\n",
    "\n",
    "    # Parse KML → GeoJSON (vía fastkml)\n",
    "    k = kml.KML()\n",
    "    k.from_string(data)\n",
    "    def _extract_features(kobj):\n",
    "        feats = []\n",
    "        for d in kobj.features():\n",
    "            if hasattr(d, 'features'):\n",
    "                feats.extend(_extract_features(d))\n",
    "            else:\n",
    "                feats.append(d)\n",
    "        return feats\n",
    "\n",
    "    feats = _extract_features(k)\n",
    "    geojson = {\"type\": \"FeatureCollection\", \"features\": []}\n",
    "    for f in feats:\n",
    "        geom = f.geometry\n",
    "        props = dict(f.extended_data.elements[0].data) if getattr(getattr(f, 'extended_data', None), 'elements', None) else {}\n",
    "        # Convert shapely geom to GeoJSON mapping\n",
    "        gj = {\n",
    "            \"type\": \"Feature\",\n",
    "            \"geometry\": json.loads(leafmap.geopandas_to_geojson(leafmap.shp_to_gdf(geom))) if False else json.loads(leafmap.geometry_to_geojson(geom)),\n",
    "            \"properties\": props\n",
    "        }\n",
    "        geojson[\"features\"].append(gj)\n",
    "\n",
    "    # Convertir a EE FeatureCollection\n",
    "    fc = geemap.geojson_to_ee(geojson)\n",
    "    _n = fc.size().getInfo()\n",
    "    print(f\"📦 KML→GeoJSON→EE: { _n } features.\")\n",
    "    return fc\n",
    "\n",
    "# Cargador resiliente\n",
    "if KML_ASSET_ID:\n",
    "    ZONES_FC = load_zones_from_asset(KML_ASSET_ID)\n",
    "elif KML_URL:\n",
    "    ZONES_FC = load_zones_from_kml_url(KML_URL)\n",
    "else:\n",
    "    # Fallback: un polígono de demostración\n",
    "    print(\"⚠️ No se proporcionó KML. Usando un polígono de ejemplo cerca de Medellín.\")\n",
    "    demo_poly = ee.Geometry.Polygon(\n",
    "        [[[-75.536, 6.262], [-75.486, 6.262], [-75.486, 6.235], [-75.536, 6.235], [-75.536, 6.262]]]\n",
    "    )\n",
    "    ZONES_FC = ee.FeatureCollection([ee.Feature(demo_poly, {\"zone_id\": \"DEMO\"})])\n",
    "\n",
    "print(\"Zonas cargadas.\")\n"
   ]
  },
  {
   "cell_type": "code",
   "execution_count": null,
   "id": "4fa00fe3",
   "metadata": {},
   "outputs": [],
   "source": [
    "\n",
    "# (Opcional) Disolver por clave\n",
    "def dissolve_by_key(fc: ee.FeatureCollection, key: str) -> ee.FeatureCollection:\n",
    "    if not key:\n",
    "        return fc\n",
    "    # Agrupa por clave y fusiona geometrías\n",
    "    keys = fc.aggregate_array(key).distinct()\n",
    "    def _dissolve_one(k):\n",
    "        k = ee.String(k)\n",
    "        geom = fc.filter(ee.Filter.eq(key, k)).geometry().dissolve(30)\n",
    "        return ee.Feature(geom, {key: k})\n",
    "    dissolved = ee.FeatureCollection(keys.map(_dissolve_one))\n",
    "    print(\"🧩 Disolución por clave completada.\")\n",
    "    return dissolved\n",
    "\n",
    "ZONES = dissolve_by_key(ZONES_FC, ZONE_KEY) if ZONE_KEY else ZONES_FC\n",
    "print(\"ZONES size:\", ZONES.size().getInfo())\n"
   ]
  },
  {
   "cell_type": "markdown",
   "id": "bae4113a",
   "metadata": {},
   "source": [
    "\n",
    "## NDVI (Sentinel-2 SR) y Estadísticas por Zona\n"
   ]
  },
  {
   "cell_type": "code",
   "execution_count": null,
   "id": "58e2fd03",
   "metadata": {},
   "outputs": [],
   "source": [
    "\n",
    "# Enmascarado de nubes S2 SR\n",
    "def mask_s2_sr(image):\n",
    "    qa = image.select('QA60')\n",
    "    cloudBitMask = 1 << 10\n",
    "    cirrusBitMask = 1 << 11\n",
    "    mask = qa.bitwiseAnd(cloudBitMask).eq(0).And(qa.bitwiseAnd(cirrusBitMask).eq(0))\n",
    "    return image.updateMask(mask).divide(10000)\\\n",
    "                .select(['B2','B3','B4','B8','B11','B12','QA60'])\\\n",
    "                .copyProperties(image, image.propertyNames())\n",
    "\n",
    "# Colección S2 y NDVI\n",
    "s2_sr = (ee.ImageCollection(\"COPERNICUS/S2_SR\")\n",
    "         .filterBounds(ZONES.geometry())\n",
    "         .filterDate(START, END)\n",
    "         .filter(ee.Filter.lt('CLOUDY_PIXEL_PERCENTAGE', CLOUDY_PCT))\n",
    "         .map(mask_s2_sr))\n",
    "\n",
    "s2_median = s2_sr.median()\n",
    "ndvi = s2_median.normalizedDifference(['B8','B4']).rename('NDVI')\n",
    "\n",
    "# Estadísticas zonales\n",
    "reducer = (ee.Reducer.mean()\n",
    "           .combine(ee.Reducer.median(), sharedInputs=True)\n",
    "           .combine(ee.Reducer.minMax(), sharedInputs=True)\n",
    "           .combine(ee.Reducer.stdDev(), sharedInputs=True))\n",
    "\n",
    "stats = ndvi.reduceRegions(\n",
    "    collection=ZONES,\n",
    "    reducer=reducer,\n",
    "    scale=10\n",
    ")\n",
    "\n",
    "print(\"✅ Estadísticas calculadas. Ejemplo primer feature:\")\n",
    "print(stats.first().toDictionary().getInfo())\n"
   ]
  },
  {
   "cell_type": "markdown",
   "id": "968d30fe",
   "metadata": {},
   "source": [
    "\n",
    "## Visualización (leafmap / MapLibre)\n"
   ]
  },
  {
   "cell_type": "code",
   "execution_count": null,
   "id": "91e58e37",
   "metadata": {},
   "outputs": [],
   "source": [
    "\n",
    "ndvi_vis = {\n",
    "    'min': -0.2,\n",
    "    'max': 0.9,\n",
    "    'palette': ['#a50026', '#f46d43', '#fee08b', '#a6d96a', '#1a9850']\n",
    "}\n",
    "true_color_vis = {'bands': ['B4','B3','B2'], 'min': 0.0, 'max': 0.3}\n",
    "\n",
    "center = ZONES.geometry().centroid().coordinates().getInfo()\n",
    "center_latlon = [center[1], center[0]]\n",
    "\n",
    "m = leafmap.Map(center=center_latlon, zoom=12, tiles=\"CartoDB.Positron\")\n",
    "m.add_basemap(\"Esri.WorldImagery\")\n",
    "m.addLayer(s2_median, true_color_vis, \"Sentinel-2 True Color\")\n",
    "m.addLayer(ndvi, ndvi_vis, \"NDVI (Sentinel-2)\")\n",
    "m.addLayer(ZONES.style(**{\"color\": \"black\", \"fillColor\": \"00000000\", \"width\": 2}), {}, \"ZONAS KML\")\n",
    "m.add_colorbar(colors=ndvi_vis['palette'], vmin=ndvi_vis['min'], vmax=ndvi_vis['max'], label=\"NDVI\")\n",
    "m\n"
   ]
  },
  {
   "cell_type": "markdown",
   "id": "5e8c74e1",
   "metadata": {},
   "source": [
    "\n",
    "## Exportaciones (opcionales)\n",
    "- **Raster NDVI** recortado a zonas.\n",
    "- **Tabla CSV** con estadísticas por zona.\n"
   ]
  },
  {
   "cell_type": "code",
   "execution_count": null,
   "id": "2ec97077",
   "metadata": {},
   "outputs": [],
   "source": [
    "\n",
    "# Exportar tabla de estadísticas a Drive\n",
    "# Descomenta si quieres exportar\n",
    "# task_stats = ee.batch.Export.table.toDrive(\n",
    "#     collection=stats,\n",
    "#     description=f\"AlphaEarth_ZonalStats_NDVI_{YEAR}\",\n",
    "#     folder=\"AlphaEarth_Exports\",\n",
    "#     fileNamePrefix=f\"zonalstats_ndvi_{YEAR}\",\n",
    "#     fileFormat='CSV'\n",
    "# )\n",
    "# task_stats.start()\n",
    "# print(\"🚚 Export de tabla iniciado:\", task_stats.id)\n",
    "\n",
    "# Exportar NDVI clip a las zonas (como imagen única sobre bounding geom de ZONES)\n",
    "# task_ndvi = ee.batch.Export.image.toDrive(\n",
    "#     image=ndvi.clip(ZONES.geometry()),\n",
    "#     description=f\"AlphaEarth_NDVI_clip_{YEAR}\",\n",
    "#     folder=\"AlphaEarth_Exports\",\n",
    "#     fileNamePrefix=f\"ndvi_clip_{YEAR}\",\n",
    "#     scale=10,\n",
    "#     region=ZONES.geometry(),\n",
    "#     maxPixels=1e13\n",
    "# )\n",
    "# task_ndvi.start()\n",
    "# print(\"🚚 Export NDVI iniciado:\", task_ndvi.id)\n"
   ]
  },
  {
   "cell_type": "markdown",
   "id": "6c9b32ad",
   "metadata": {},
   "source": [
    "\n",
    "## (Opcional) Guardar Zonas editadas como KML/GeoJSON locales\n",
    "\n",
    "Si editas zonas dentro de Python, puedes exportarlas a **GeoJSON** local y luego convertir a **KML** con `leafmap` para reutilizarlas fuera de GEE.\n"
   ]
  },
  {
   "cell_type": "code",
   "execution_count": null,
   "id": "a4ca2763",
   "metadata": {},
   "outputs": [],
   "source": [
    "\n",
    "# Descargar las zonas a GeoJSON local (muestra/centroides simplificados para ejemplo)\n",
    "# Nota: Para descargar geometrías completas a local, es más robusto exportar desde EE a Drive como tabla (ee.batch.Export.table.toDrive)\n",
    "# Aquí mostramos un ejemplo simple para centroids:\n",
    "centroids = ZONES.map(lambda f: ee.Feature(f.geometry().centroid(), f.toDictionary()))\n",
    "\n",
    "# Export simple a lista de dicts (no recomendado para muchas features)\n",
    "# Para pocas zonas funciona como ejemplo.\n",
    "features_list = centroids.toList(1000)\n",
    "gj = {\"type\": \"FeatureCollection\", \"features\": []}\n",
    "n = features_list.size().getInfo()\n",
    "for i in range(n):\n",
    "    f = ee.Feature(features_list.get(i)).toGeoJSONString().getInfo()\n",
    "    gj[\"features\"].append(json.loads(f))\n",
    "\n",
    "with open(\"/mnt/data/AlphaEarth_zones_centroids.geojson\", \"w\", encoding=\"utf-8\") as fp:\n",
    "    json.dump(gj, fp)\n",
    "print(\"💾 Guardado:\", \"/mnt/data/AlphaEarth_zones_centroids.geojson\")\n",
    "\n",
    "# Convertir ese GeoJSON a KML (solo como demo rápida)\n",
    "leafmap.convert_file(\"/mnt/data/AlphaEarth_zones_centroids.geojson\",\n",
    "                     \"/mnt/data/AlphaEarth_zones_centroids.kml\")\n",
    "print(\"💾 Guardado:\", \"/mnt/data/AlphaEarth_zones_centroids.kml\")\n"
   ]
  }
 ],
 "metadata": {
  "kernelspec": {
   "display_name": "Python 3",
   "language": "python",
   "name": "python3"
  },
  "language_info": {
   "codemirror_mode": {
    "name": "ipython",
    "version": 3
   },
   "file_extension": ".py",
   "mimetype": "text/x-python",
   "name": "python",
   "nbconvert_exporter": "python",
   "pygments_lexer": "ipython3",
   "version": "3.11.9"
  }
 },
 "nbformat": 4,
 "nbformat_minor": 5
}
