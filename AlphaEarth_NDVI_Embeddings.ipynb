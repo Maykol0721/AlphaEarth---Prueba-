{
 "cells": [
  {
   "cell_type": "markdown",
   "id": "69720f40",
   "metadata": {},
   "source": [
    "\n",
    "# Alpha Earth – NDVI & Satellite Embeddings (GEE + leafmap)\n",
    "\n",
    "Este notebook implementa un flujo **listo para ejecutar** con:\n",
    "- **NDVI (Sentinel‑2)** para salud de vegetación.\n",
    "- **Embeddings Satelitales** (`GOOGLE/SATELLITE_EMBEDDING/V1/ANNUAL`) para caracterización y análisis avanzado.\n",
    "- **Visualización interactiva** con `leafmap/MapLibre`.\n",
    "\n",
    "**Referencias:**\n",
    "- Dataset: *Satellite Embedding V1 (Annual)* – `GOOGLE/SATELLITE_EMBEDDING/V1/ANNUAL`\n",
    "- Tutoriales GEE (Embeddings): Introducción, Clasificación, Regresión, Búsqueda de similitud\n",
    "- Mapas web: `leafmap` / `maplibre`\n",
    "\n",
    "> Sugerencia: si usas **Colab**, ejecuta todas las celdas en orden. Si usas Jupyter local, asegúrate de tener las credenciales de Earth Engine configuradas.\n"
   ]
  },
  {
   "cell_type": "code",
   "execution_count": 2,
   "id": "3dd1ea8b",
   "metadata": {},
   "outputs": [
    {
     "name": "stdout",
     "output_type": "stream",
     "text": [
      "Running: earthengine-api\n",
      "Running: geemap>=0.32.0\n"
     ]
    },
    {
     "name": "stderr",
     "output_type": "stream",
     "text": [
      "\n",
      "[notice] A new release of pip is available: 25.1.1 -> 25.2\n",
      "[notice] To update, run: C:\\Users\\USUARIO\\AppData\\Local\\Microsoft\\WindowsApps\\PythonSoftwareFoundation.Python.3.11_qbz5n2kfra8p0\\python.exe -m pip install --upgrade pip\n"
     ]
    },
    {
     "name": "stdout",
     "output_type": "stream",
     "text": [
      "Running: leafmap>=0.34.0\n"
     ]
    },
    {
     "name": "stderr",
     "output_type": "stream",
     "text": [
      "\n",
      "[notice] A new release of pip is available: 25.1.1 -> 25.2\n",
      "[notice] To update, run: C:\\Users\\USUARIO\\AppData\\Local\\Microsoft\\WindowsApps\\PythonSoftwareFoundation.Python.3.11_qbz5n2kfra8p0\\python.exe -m pip install --upgrade pip\n"
     ]
    },
    {
     "name": "stdout",
     "output_type": "stream",
     "text": [
      "✅ Dependencias instaladas/actualizadas.\n"
     ]
    },
    {
     "name": "stderr",
     "output_type": "stream",
     "text": [
      "\n",
      "[notice] A new release of pip is available: 25.1.1 -> 25.2\n",
      "[notice] To update, run: C:\\Users\\USUARIO\\AppData\\Local\\Microsoft\\WindowsApps\\PythonSoftwareFoundation.Python.3.11_qbz5n2kfra8p0\\python.exe -m pip install --upgrade pip\n"
     ]
    }
   ],
   "source": [
    "\n",
    "import sys\n",
    "\n",
    "def _pip(cmd):\n",
    "    print(f\"Running: {cmd}\")\n",
    "    !{sys.executable} -m pip install --quiet --upgrade {cmd}\n",
    "\n",
    "_pkgs = [\n",
    "    \"earthengine-api\",\n",
    "    \"geemap>=0.32.0\",\n",
    "    \"leafmap>=0.34.0\"\n",
    "]\n",
    "\n",
    "for p in _pkgs:\n",
    "    _pip(p)\n",
    "\n",
    "print(\"✅ Dependencias instaladas/actualizadas.\")\n"
   ]
  },
  {
   "cell_type": "code",
   "execution_count": null,
   "id": "83571b62",
   "metadata": {},
   "outputs": [
    {
     "name": "stdout",
     "output_type": "stream",
     "text": [
      "ℹ️ Autenticación requerida. Si estás en Colab, aparecerá una ventana emergente.\n"
     ]
    },
    {
     "data": {
      "text/html": [
       "<p>To authorize access needed by Earth Engine, open the following\n",
       "        URL in a web browser and follow the instructions:</p>\n",
       "        <p><a href=https://code.earthengine.google.com/client-auth?scopes=https%3A//www.googleapis.com/auth/earthengine%20https%3A//www.googleapis.com/auth/cloud-platform%20https%3A//www.googleapis.com/auth/drive%20https%3A//www.googleapis.com/auth/devstorage.full_control&request_id=r_qtjKFUlGLBaNf9nUO47ht8Ae2m0B46HjraDdE2UsE&tc=v1vNv7flrur06Mu4v-ZoSYgo-FqIv-RGcK63ALcfRzQ&cc=yv8pVrB8jlbM2qgSo-O5hj9jFWglHjpCsrSfdHd99cI>https://code.earthengine.google.com/client-auth?scopes=https%3A//www.googleapis.com/auth/earthengine%20https%3A//www.googleapis.com/auth/cloud-platform%20https%3A//www.googleapis.com/auth/drive%20https%3A//www.googleapis.com/auth/devstorage.full_control&request_id=r_qtjKFUlGLBaNf9nUO47ht8Ae2m0B46HjraDdE2UsE&tc=v1vNv7flrur06Mu4v-ZoSYgo-FqIv-RGcK63ALcfRzQ&cc=yv8pVrB8jlbM2qgSo-O5hj9jFWglHjpCsrSfdHd99cI</a></p>\n",
       "        <p>The authorization workflow will generate a code, which you should paste in the box below.</p>\n",
       "        "
      ],
      "text/plain": [
       "<IPython.core.display.HTML object>"
      ]
     },
     "metadata": {},
     "output_type": "display_data"
    }
   ],
   "source": [
    "\n",
    "# === Autenticación e inicialización de Earth Engine ===\n",
    "import ee, os\n",
    "\n",
    "try:\n",
    "    ee.Initialize()\n",
    "    print(\"✅ Earth Engine inicializado (credenciales encontradas).\")\n",
    "except Exception as e:\n",
    "    print(\"ℹ️ Autenticación requerida. Si estás en Colab, aparecerá una ventana emergente.\")\n",
    "    ee.Authenticate()\n",
    "    ee.Initialize()\n",
    "    print(\"✅ Earth Engine autenticado e inicializado.\")\n"
   ]
  },
  {
   "cell_type": "code",
   "execution_count": null,
   "id": "801cb115",
   "metadata": {},
   "outputs": [],
   "source": [
    "\n",
    "# === Imports generales y utilidades ===\n",
    "import datetime as dt\n",
    "import ee\n",
    "import leafmap\n",
    "\n",
    "# Función de enmascaramiento de nubes para Sentinel-2 SR\n",
    "def mask_s2_sr(image):\n",
    "    # QA60: bits 10 y 11 son nubes y cirros\n",
    "    qa = image.select('QA60')\n",
    "    cloudBitMask = 1 << 10\n",
    "    cirrusBitMask = 1 << 11\n",
    "    mask = qa.bitwiseAnd(cloudBitMask).eq(0).And(qa.bitwiseAnd(cirrusBitMask).eq(0))\n",
    "    return image.updateMask(mask).divide(10000)                .select(['B2','B3','B4','B8','B11','B12'])                .copyProperties(image, image.propertyNames())\n"
   ]
  },
  {
   "cell_type": "code",
   "execution_count": null,
   "id": "b61c3324",
   "metadata": {},
   "outputs": [],
   "source": [
    "\n",
    "# === Parámetros del análisis ===\n",
    "YEAR = 2025\n",
    "START = ee.Date.fromYMD(YEAR, 7, 1)   # Ajusta el rango temporal a tu necesidad\n",
    "END   = ee.Date.fromYMD(YEAR, 7, 31)\n",
    "CLOUDY_PCT = 20  # porcentaje máximo de nubes permitido\n",
    "\n",
    "# === Área de interés (AOI) ===\n",
    "# Ejemplo: un punto en Colombia y un buffer de 2 km\n",
    "aoi_point = ee.Geometry.Point([-75.514, 6.251])  # (lon, lat) – Medellín aprox.\n",
    "AOI = aoi_point.buffer(2000)  # 2km\n",
    "print(\"AOI listo.\")\n"
   ]
  },
  {
   "cell_type": "markdown",
   "id": "478ff063",
   "metadata": {},
   "source": [
    "\n",
    "## NDVI con Sentinel‑2 (SR)\n",
    "\n",
    "Pasos:\n",
    "1. Filtrar colección `COPERNICUS/S2_SR` por AOI, fechas y nubes.\n",
    "2. Enmascarar nubes usando `QA60`.\n",
    "3. Componer una imagen (mediana) y calcular **NDVI**.\n",
    "4. Visualizar en `leafmap` con un *heatmap* rojo→amarillo→verde.\n"
   ]
  },
  {
   "cell_type": "code",
   "execution_count": null,
   "id": "5753137a",
   "metadata": {},
   "outputs": [],
   "source": [
    "\n",
    "# === Cargar y filtrar Sentinel-2 SR ===\n",
    "s2_sr = (ee.ImageCollection(\"COPERNICUS/S2_SR\")\n",
    "         .filterBounds(AOI)\n",
    "         .filterDate(START, END)\n",
    "         .filter(ee.Filter.lt('CLOUDY_PIXEL_PERCENTAGE', CLOUDY_PCT))\n",
    "         .map(mask_s2_sr))\n",
    "\n",
    "s2_median = s2_sr.median()\n",
    "\n",
    "# === NDVI ===\n",
    "ndvi = s2_median.normalizedDifference(['B8','B4']).rename('NDVI')\n",
    "\n",
    "# === Visualización NDVI ===\n",
    "ndvi_vis = {\n",
    "    'min': -0.2,\n",
    "    'max':  0.9,\n",
    "    'palette': ['#a50026', '#f46d43', '#fee08b', '#a6d96a', '#1a9850']  # rojo -> amarillo -> verde\n",
    "}\n",
    "\n",
    "true_color_vis = {'bands': ['B4','B3','B2'], 'min': 0.0, 'max': 0.3}\n",
    "\n",
    "m = leafmap.Map(center=[6.251, -75.514], zoom=12, tiles=\"CartoDB.Positron\")\n",
    "m.add_basemap(\"Esri.WorldImagery\")\n",
    "m.addLayer(s2_median, true_color_vis, \"Sentinel-2 True Color\")\n",
    "m.addLayer(ndvi, ndvi_vis, \"NDVI (Sentinel-2)\")\n",
    "m.addLayer(AOI, {}, \"AOI\")\n",
    "m.add_colorbar(colors=ndvi_vis['palette'], vmin=ndvi_vis['min'], vmax=ndvi_vis['max'], label=\"NDVI\")\n",
    "m\n"
   ]
  },
  {
   "cell_type": "code",
   "execution_count": null,
   "id": "89cad2ad",
   "metadata": {},
   "outputs": [],
   "source": [
    "\n",
    "# === (Opcional) Exportar NDVI a Google Drive ===\n",
    "# Descomenta para exportar (necesita permisos de Drive vinculados a tu cuenta EE)\n",
    "# task = ee.batch.Export.image.toDrive(\n",
    "#     image=ndvi.clip(AOI),\n",
    "#     description=f\"NDVI_{YEAR}_Jul\",\n",
    "#     folder=\"AlphaEarth_Exports\",\n",
    "#     fileNamePrefix=f\"NDVI_{YEAR}_Jul\",\n",
    "#     scale=10,\n",
    "#     region=AOI,\n",
    "#     maxPixels=1e13\n",
    "# )\n",
    "# task.start()\n",
    "# print(\"Export a Drive iniciado:\", task.id)\n"
   ]
  },
  {
   "cell_type": "markdown",
   "id": "45eb62c9",
   "metadata": {},
   "source": [
    "\n",
    "## Embeddings Satelitales (GOOGLE/SATELLITE_EMBEDDING/V1/ANNUAL)\n",
    "\n",
    "- Cada píxel contiene un **vector de 64 dimensiones** con información anual multisensor.\n",
    "- Flujo:\n",
    "  1. Cargar la colección y filtrar por año y AOI.\n",
    "  2. Hacer *mosaic* (una sola imagen por año/ROI).\n",
    "  3. **Samplear** vectores en la AOI (para explorar o entrenar modelos).\n",
    "  4. (Opcional) Visualización PCA RGB de los embeddings.\n"
   ]
  },
  {
   "cell_type": "code",
   "execution_count": null,
   "id": "f25b35b4",
   "metadata": {},
   "outputs": [],
   "source": [
    "\n",
    "# === Carga de Embeddings (Anual) ===\n",
    "emb_ic = (ee.ImageCollection('GOOGLE/SATELLITE_EMBEDDING/V1/ANNUAL')\n",
    "          .filterDate(ee.Date.fromYMD(YEAR,1,1), ee.Date.fromYMD(YEAR+1,1,1))\n",
    "          .filterBounds(AOI))\n",
    "\n",
    "emb_img = emb_ic.mosaic()  # imagen única\n",
    "band_names = emb_img.bandNames()\n",
    "print(\"Número de bandas (dimensión del embedding):\", band_names.size().getInfo())\n",
    "print(\"Primeras bandas:\", band_names.slice(0,5).getInfo())\n",
    "\n",
    "# === Muestreo de vectores (64-dim) dentro del AOI ===\n",
    "samples = emb_img.sample(region=AOI, scale=10, numPixels=200, geometries=True)\n",
    "print(\"Muestras obtenidas:\", samples.size().getInfo())\n",
    "\n",
    "# Ver una muestra\n",
    "samp_first = samples.first()\n",
    "print(\"Ejemplo de vector (primer feature):\")\n",
    "print(samp_first.toDictionary().getInfo())\n"
   ]
  },
  {
   "cell_type": "code",
   "execution_count": null,
   "id": "a472699d",
   "metadata": {},
   "outputs": [],
   "source": [
    "\n",
    "# === PCA (3 componentes) para visualización RGB de los embeddings ===\n",
    "# Convierte bandas a array para aplicar PCA\n",
    "array_img = emb_img.toArray()\n",
    "# Reducer PCA retornando 3 componentes\n",
    "pca = array_img.reduce(ee.Reducer.principalComponents(3))\n",
    "# La salida es un array; convertimos a bandas separadas\n",
    "# Dimensión 0: pixel, Dimensión 1: componente\n",
    "pca_bands = pca.arrayProject([0]).arrayFlatten([['PC1', 'PC2', 'PC3']])\n",
    "\n",
    "# Stretch sencillo para visualización\n",
    "pca_vis = {'min': -2, 'max': 2}\n",
    "m2 = leafmap.Map(center=[6.251, -75.514], zoom=12, tiles=\"CartoDB.Positron\")\n",
    "m2.addLayer(pca_bands, pca_vis, f'Embeddings PCA RGB {YEAR}')\n",
    "m2.addLayer(AOI, {}, \"AOI\")\n",
    "m2\n"
   ]
  },
  {
   "cell_type": "code",
   "execution_count": null,
   "id": "e58efc38",
   "metadata": {},
   "outputs": [],
   "source": [
    "\n",
    "# === (Opcional) Exportar muestras a Drive como tabla CSV ===\n",
    "# Descomenta para exportar (requiere permisos de Drive)\n",
    "# task_tbl = ee.batch.Export.table.toDrive(\n",
    "#     collection=samples,\n",
    "#     description=f\"Embeddings_Samples_{YEAR}\",\n",
    "#     folder=\"AlphaEarth_Exports\",\n",
    "#     fileNamePrefix=f\"embeddings_samples_{YEAR}\",\n",
    "#     fileFormat='CSV'\n",
    "# )\n",
    "# task_tbl.start()\n",
    "# print(\"Export de muestras a Drive iniciado:\", task_tbl.id)\n"
   ]
  },
  {
   "cell_type": "markdown",
   "id": "3fdf6788",
   "metadata": {},
   "source": [
    "\n",
    "## ¿Cómo interviene *Alpha Earth* en el flujo?\n",
    "\n",
    "- **Ingesta (GEE → Notebook):** este notebook automatiza la descarga/procesado de **NDVI** y **Embeddings** para el AOI del productor.\n",
    "- **Features & ML:** los vectores de **64‑D** se combinan con índices (NDVI/NDWI/LST) y datos IoT para *clustering*, clasificación o regresión (rendimiento, estrés hídrico).\n",
    "- **Visualización Web:** los *rasters* (NDVI/PCA) se publican con `leafmap/maplibre` (o exportados como tiles/GeoTIFF) para el **dashboard** de Alpha Earth.\n",
    "- **Alertas:** con umbrales (p.ej., NDVI < 0.3) se generan **semáforos** y notificaciones para decisiones agronómicas.\n"
   ]
  }
 ],
 "metadata": {
  "kernelspec": {
   "display_name": "Python 3",
   "language": "python",
   "name": "python3"
  },
  "language_info": {
   "codemirror_mode": {
    "name": "ipython",
    "version": 3
   },
   "file_extension": ".py",
   "mimetype": "text/x-python",
   "name": "python",
   "nbconvert_exporter": "python",
   "pygments_lexer": "ipython3",
   "version": "3.11.9"
  }
 },
 "nbformat": 4,
 "nbformat_minor": 5
}
